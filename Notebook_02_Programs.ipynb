{
 "cells": [
  {
   "cell_type": "markdown",
   "metadata": {},
   "source": [
    "## Sending programs over the wire\n",
    "\n",
    "Logic can be sent remotely to the server"
   ]
  },
  {
   "cell_type": "code",
   "execution_count": 1,
   "metadata": {},
   "outputs": [],
   "source": [
    "from prologterms import TermGenerator, PrologRenderer, Program, Var, Term\n",
    "from sparqlprog import SPARQLProg\n",
    "from rdflib import Namespace\n",
    "P = TermGenerator()\n",
    "R = PrologRenderer()"
   ]
  },
  {
   "cell_type": "code",
   "execution_count": 2,
   "metadata": {},
   "outputs": [],
   "source": [
    "dbont = Namespace(\"http://dbpedia.org/ontology/\")\n",
    "dbr = Namespace(\"http://dbpedia.org/resource/\")\n"
   ]
  },
  {
   "cell_type": "code",
   "execution_count": 3,
   "metadata": {},
   "outputs": [],
   "source": [
    "server = 'http://localhost:9083'"
   ]
  },
  {
   "cell_type": "markdown",
   "metadata": {},
   "source": [
    "## Creating a program"
   ]
  },
  {
   "cell_type": "code",
   "execution_count": 4,
   "metadata": {},
   "outputs": [],
   "source": [
    "X = Var('X')\n",
    "Y = Var('Y')\n",
    "Z = Var('Z')\n",
    "    \n",
    "rules = [\n",
    "    # in-band if bandMember OR formerBandMember\n",
    "    P.in_band(X,Y) <= P.rdf(Y, dbont['bandMember'], X),\n",
    "    P.in_band(X,Y) <= P.rdf(Y, dbont['formerBandMember'], X),\n",
    "    \n",
    "    # shared band members, at any point in time\n",
    "    P.has_shared_band_member(X,Y,Z) <= (P.in_band(Z, X), P.in_band(Z,Y), Term('\\=', X, Y))\n",
    "]"
   ]
  },
  {
   "cell_type": "code",
   "execution_count": 5,
   "metadata": {},
   "outputs": [],
   "source": [
    "S = SPARQLProg(server=server,\n",
    "               rules=rules,\n",
    "               endpoint='dbpedia')"
   ]
  },
  {
   "cell_type": "markdown",
   "metadata": {},
   "source": [
    "### setting up a query"
   ]
  },
  {
   "cell_type": "code",
   "execution_count": 6,
   "metadata": {},
   "outputs": [],
   "source": [
    "query = P.has_shared_band_member(dbr['Metallica'], X, Z)\n",
    "#query = P.has_shared_band_member(Y, X, Z)\n",
    "#query = P.in_band(X,Y)"
   ]
  },
  {
   "cell_type": "markdown",
   "metadata": {},
   "source": [
    "### running the querry\n"
   ]
  },
  {
   "cell_type": "code",
   "execution_count": 10,
   "metadata": {},
   "outputs": [],
   "source": [
    "res = S.query(query)"
   ]
  },
  {
   "cell_type": "code",
   "execution_count": 11,
   "metadata": {},
   "outputs": [
    {
     "name": "stdout",
     "output_type": "stream",
     "text": [
      "band: http://dbpedia.org/resource/Mass_Mental connecting member: http://dbpedia.org/resource/Robert_Trujillo\n",
      "band: http://dbpedia.org/resource/Black_Label_Society connecting member: http://dbpedia.org/resource/Robert_Trujillo\n",
      "band: http://dbpedia.org/resource/Suicidal_Tendencies connecting member: http://dbpedia.org/resource/Robert_Trujillo\n",
      "band: http://dbpedia.org/resource/List_of_Suicidal_Tendencies_band_members connecting member: http://dbpedia.org/resource/Robert_Trujillo\n",
      "band: http://dbpedia.org/resource/Infectious_Grooves connecting member: http://dbpedia.org/resource/Robert_Trujillo\n",
      "band: http://dbpedia.org/resource/Spastik_Children connecting member: http://dbpedia.org/resource/Kirk_Hammett\n",
      "band: http://dbpedia.org/resource/Leather_Charm connecting member: http://dbpedia.org/resource/James_Hetfield\n",
      "band: http://dbpedia.org/resource/Spastik_Children connecting member: http://dbpedia.org/resource/James_Hetfield\n",
      "band: http://dbpedia.org/resource/Megadeth connecting member: http://dbpedia.org/resource/Dave_Mustaine\n",
      "band: http://dbpedia.org/resource/Newsted connecting member: http://dbpedia.org/resource/Jason_Newsted\n",
      "band: http://dbpedia.org/resource/Red_Lamb connecting member: http://dbpedia.org/resource/Dave_Mustaine\n",
      "band: http://dbpedia.org/resource/MD.45 connecting member: http://dbpedia.org/resource/Dave_Mustaine\n",
      "band: http://dbpedia.org/resource/Trauma_(band) connecting member: http://dbpedia.org/resource/Cliff_Burton\n",
      "band: http://dbpedia.org/resource/EZ-Street connecting member: http://dbpedia.org/resource/Cliff_Burton\n",
      "band: http://dbpedia.org/resource/Spastik_Children connecting member: http://dbpedia.org/resource/Cliff_Burton\n",
      "band: http://dbpedia.org/resource/WhoCares connecting member: http://dbpedia.org/resource/Jason_Newsted\n",
      "band: http://dbpedia.org/resource/Flotsam_and_Jetsam_(band) connecting member: http://dbpedia.org/resource/Jason_Newsted\n",
      "band: http://dbpedia.org/resource/Voivod_(band) connecting member: http://dbpedia.org/resource/Jason_Newsted\n",
      "band: http://dbpedia.org/resource/Spastik_Children connecting member: http://dbpedia.org/resource/Jason_Newsted\n",
      "band: http://dbpedia.org/resource/Rock_Star_Supernova connecting member: http://dbpedia.org/resource/Jason_Newsted\n",
      "band: http://dbpedia.org/resource/Echobrain connecting member: http://dbpedia.org/resource/Jason_Newsted\n",
      "band: http://dbpedia.org/resource/Leather_Charm connecting member: http://dbpedia.org/resource/Ron_McGovney\n",
      "band: http://dbpedia.org/resource/Phantasm_(band) connecting member: http://dbpedia.org/resource/Ron_McGovney\n"
     ]
    }
   ],
   "source": [
    "for r in res:\n",
    "    print(f\"band: {r['X']} connecting member: {r['Z']}\")"
   ]
  }
 ],
 "metadata": {
  "kernelspec": {
   "display_name": "Python 3",
   "language": "python",
   "name": "python3"
  },
  "language_info": {
   "codemirror_mode": {
    "name": "ipython",
    "version": 3
   },
   "file_extension": ".py",
   "mimetype": "text/x-python",
   "name": "python",
   "nbconvert_exporter": "python",
   "pygments_lexer": "ipython3",
   "version": "3.7.1"
  }
 },
 "nbformat": 4,
 "nbformat_minor": 2
}
